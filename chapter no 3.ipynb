{
 "cells": [
  {
   "cell_type": "markdown",
   "id": "a59b4028",
   "metadata": {},
   "source": [
    "# Chapter # 3"
   ]
  },
  {
   "cell_type": "markdown",
   "id": "49164705",
   "metadata": {},
   "source": [
    "**Conditional Statments** "
   ]
  },
  {
   "cell_type": "code",
   "execution_count": 4,
   "id": "69d9c460",
   "metadata": {},
   "outputs": [
    {
     "name": "stdout",
     "output_type": "stream",
     "text": [
      "finish\n"
     ]
    }
   ],
   "source": [
    "j = 15\n",
    "if j < 10:\n",
    "    print(\"Smaller\")\n",
    "if j > 30:\n",
    "   print(\"Bigger\")\n",
    "     \n",
    "print(\"finish\")\n",
    "\n"
   ]
  },
  {
   "cell_type": "markdown",
   "id": "e78d0b6a",
   "metadata": {},
   "source": [
    "**Comparison Operator**"
   ]
  },
  {
   "cell_type": "code",
   "execution_count": 11,
   "id": "0cd2a43f",
   "metadata": {},
   "outputs": [
    {
     "name": "stdout",
     "output_type": "stream",
     "text": [
      "Greater than 4\n",
      "Greater than or Equals 5\n",
      "Less than 6\n",
      "Less than or Equals 5\n",
      "Not equal 6\n"
     ]
    }
   ],
   "source": [
    "x = 5\n",
    "if x > 4 :\n",
    " print(\"Greater than 4\")\n",
    "if x >= 5 :\n",
    " print('Greater than or Equals 5')\n",
    "if x < 6 :\n",
    " print('Less than 6')\n",
    "if x <= 5 :\n",
    " print('Less than or Equals 5')\n",
    "if x != 6 :\n",
    " print('Not equal 6')"
   ]
  },
  {
   "cell_type": "code",
   "execution_count": 14,
   "id": "acf40d14",
   "metadata": {},
   "outputs": [
    {
     "name": "stdout",
     "output_type": "stream",
     "text": [
      "Before 5\n",
      "Is 5\n",
      "Is Still 5\n",
      "Third 5\n",
      "Afterwards 5\n",
      "Before 6\n"
     ]
    }
   ],
   "source": [
    "x = 5\n",
    "print('Before 5')\n",
    "if x == 5 :\n",
    " print('Is 5')\n",
    " print('Is Still 5')\n",
    " print('Third 5')\n",
    " print('Afterwards 5')\n",
    " print('Before 6')\n",
    "if x == 6 :\n",
    " print('Is 6')\n",
    " print('Is Still 6')\n",
    " print('Third 6')\n",
    " print('Afterwards 6')"
   ]
  },
  {
   "cell_type": "markdown",
   "id": "8502ea1d",
   "metadata": {},
   "source": [
    "**Nested**"
   ]
  },
  {
   "cell_type": "code",
   "execution_count": 18,
   "id": "05b26b14",
   "metadata": {},
   "outputs": [
    {
     "name": "stdout",
     "output_type": "stream",
     "text": [
      "Less than 100\n",
      "All done\n"
     ]
    }
   ],
   "source": [
    "j = 42\n",
    "if j > 111 :\n",
    " print('More than one')\n",
    "if j < 100 :\n",
    " print('Less than 100')\n",
    "print('All done')"
   ]
  },
  {
   "cell_type": "code",
   "execution_count": 16,
   "id": "b0a9b405",
   "metadata": {},
   "outputs": [
    {
     "name": "stdout",
     "output_type": "stream",
     "text": [
      "Bigger\n",
      "All done\n"
     ]
    }
   ],
   "source": [
    "i = 4\n",
    "if i > 2 :\n",
    " print('Bigger')\n",
    "else :\n",
    " print('Smaller')\n",
    "print('All done')"
   ]
  },
  {
   "cell_type": "markdown",
   "id": "4c60f88a",
   "metadata": {},
   "source": [
    "**Multi way**"
   ]
  },
  {
   "cell_type": "code",
   "execution_count": 19,
   "id": "cd0676ac",
   "metadata": {},
   "outputs": [
    {
     "name": "stdout",
     "output_type": "stream",
     "text": [
      "Medium\n",
      "All done\n"
     ]
    }
   ],
   "source": [
    "if x < 2 :\n",
    " print('small')\n",
    "elif x < 10 :\n",
    " print('Medium')\n",
    "else :\n",
    " print('LARGE')\n",
    "print('All done')"
   ]
  },
  {
   "cell_type": "code",
   "execution_count": 21,
   "id": "a45f3d7d",
   "metadata": {},
   "outputs": [
    {
     "name": "stdout",
     "output_type": "stream",
     "text": [
      "LARGE\n",
      "All done\n"
     ]
    }
   ],
   "source": [
    "a = 10\n",
    "if a < 2 :\n",
    " print('small')\n",
    "elif a < 10 :\n",
    " print('Medium')\n",
    "else :\n",
    " print('LARGE')\n",
    "print('All done')"
   ]
  },
  {
   "cell_type": "code",
   "execution_count": 24,
   "id": "dd782560",
   "metadata": {},
   "outputs": [
    {
     "name": "stdout",
     "output_type": "stream",
     "text": [
      "Large\n"
     ]
    }
   ],
   "source": [
    "h = 23\n",
    "if h < 2 :\n",
    " print('Small')\n",
    "elif h < 10 :\n",
    " print('Medium')\n",
    "elif h < 20 :\n",
    " print('Big')\n",
    "elif h < 40 :\n",
    " print('Large')\n",
    "elif h < 100:\n",
    " print('Huge')\n",
    "else :\n",
    " print('Ginormous')"
   ]
  },
  {
   "cell_type": "markdown",
   "id": "5ba36261",
   "metadata": {},
   "source": [
    "**Multiway Puzzel**"
   ]
  },
  {
   "cell_type": "code",
   "execution_count": 25,
   "id": "b8900491",
   "metadata": {},
   "outputs": [
    {
     "name": "stdout",
     "output_type": "stream",
     "text": [
      "Two or more\n"
     ]
    }
   ],
   "source": [
    "b = 5\n",
    "if b < 2 :\n",
    " print('Below 2')\n",
    "elif b >= 2 :\n",
    " print('Two or more')\n",
    "else :\n",
    " print('Something else')"
   ]
  },
  {
   "cell_type": "markdown",
   "id": "b9546a70",
   "metadata": {},
   "source": [
    "**Try/Expect**"
   ]
  },
  {
   "cell_type": "code",
   "execution_count": 26,
   "id": "2e37e1ad",
   "metadata": {},
   "outputs": [
    {
     "name": "stdout",
     "output_type": "stream",
     "text": [
      "First -1\n",
      "Second 123\n"
     ]
    }
   ],
   "source": [
    "astr = 'Hello Bob'\n",
    "try:\n",
    " istr = int(astr)\n",
    "except:\n",
    " istr = -1\n",
    "\n",
    "print('First', istr)\n",
    "\n",
    "astr = '123'\n",
    "try:\n",
    " istr = int(astr)\n",
    "except:\n",
    " istr = -1\n",
    "print('Second', istr)"
   ]
  },
  {
   "cell_type": "code",
   "execution_count": 27,
   "id": "46f41b1c",
   "metadata": {},
   "outputs": [
    {
     "name": "stdout",
     "output_type": "stream",
     "text": [
      "Hello\n",
      "Done -1\n"
     ]
    }
   ],
   "source": [
    "astr = 'Bob'\n",
    "try:\n",
    " print('Hello')\n",
    " istr = int(astr)\n",
    " print('There')\n",
    "except:\n",
    " istr = -1\n",
    "print('Done', istr)"
   ]
  },
  {
   "cell_type": "code",
   "execution_count": null,
   "id": "4935aeff",
   "metadata": {},
   "outputs": [],
   "source": []
  }
 ],
 "metadata": {
  "kernelspec": {
   "display_name": "Python 3 (ipykernel)",
   "language": "python",
   "name": "python3"
  },
  "language_info": {
   "codemirror_mode": {
    "name": "ipython",
    "version": 3
   },
   "file_extension": ".py",
   "mimetype": "text/x-python",
   "name": "python",
   "nbconvert_exporter": "python",
   "pygments_lexer": "ipython3",
   "version": "3.11.4"
  }
 },
 "nbformat": 4,
 "nbformat_minor": 5
}
