{
 "cells": [
  {
   "cell_type": "markdown",
   "id": "2616156c",
   "metadata": {},
   "source": [
    "# Chapter # 5"
   ]
  },
  {
   "cell_type": "markdown",
   "id": "b530a03a",
   "metadata": {},
   "source": [
    "**LOOPS**"
   ]
  },
  {
   "cell_type": "code",
   "execution_count": 2,
   "id": "8afe437f",
   "metadata": {},
   "outputs": [
    {
     "name": "stdout",
     "output_type": "stream",
     "text": [
      "5\n",
      "4\n",
      "3\n",
      "2\n",
      "1\n",
      "Blastoff!\n",
      "0\n"
     ]
    }
   ],
   "source": [
    "n = 5\n",
    "while n > 0 :\n",
    " print(n)\n",
    " n = n - 1\n",
    "print('Blastoff!')\n",
    "print(n)"
   ]
  },
  {
   "cell_type": "markdown",
   "id": "c80a027e",
   "metadata": {},
   "source": [
    "**Infinit Loop**"
   ]
  },
  {
   "cell_type": "code",
   "execution_count": null,
   "id": "bdc3a3f5",
   "metadata": {},
   "outputs": [],
   "source": [
    "n = 5\n",
    "while n > 0 :\n",
    " print('Lather' # we've to put ) to run the program the output of this program is infinite\n",
    " print('Rinse')\n",
    "print('Dry off!')"
   ]
  },
  {
   "cell_type": "code",
   "execution_count": null,
   "id": "b1380bcb",
   "metadata": {},
   "outputs": [],
   "source": [
    "while True:\n",
    "   line = input('> ')\n",
    "   if line == 'done' :\n",
    "     break\n",
    "   print(line)\n",
    "print('Done!')"
   ]
  },
  {
   "cell_type": "code",
   "execution_count": null,
   "id": "c7e04a71",
   "metadata": {},
   "outputs": [],
   "source": [
    "while True:\n",
    "  line = input('> ')\n",
    "  if line[0] == '#' :\n",
    "   continue\n",
    "  if line == 'done' :\n",
    "   break\n",
    "  print(line)\n",
    "print('Done!')"
   ]
  },
  {
   "cell_type": "markdown",
   "id": "572a8fdc",
   "metadata": {},
   "source": [
    "**FOR LOOP**"
   ]
  },
  {
   "cell_type": "code",
   "execution_count": 1,
   "id": "6537c7bc",
   "metadata": {},
   "outputs": [
    {
     "name": "stdout",
     "output_type": "stream",
     "text": [
      "5\n",
      "4\n",
      "3\n",
      "2\n",
      "1\n",
      "Blastoff!\n"
     ]
    }
   ],
   "source": [
    "for i in [5, 4, 3, 2, 1] :\n",
    "  print(i)\n",
    "print('Blastoff!')"
   ]
  },
  {
   "cell_type": "code",
   "execution_count": 4,
   "id": "bcd3574b",
   "metadata": {},
   "outputs": [
    {
     "name": "stdout",
     "output_type": "stream",
     "text": [
      "5\n",
      "4\n",
      "3\n",
      "2\n",
      "1\n"
     ]
    }
   ],
   "source": [
    "for i in [5, 4, 3, 2, 1] :\n",
    " print(i)"
   ]
  },
  {
   "cell_type": "code",
   "execution_count": 5,
   "id": "331869ac",
   "metadata": {},
   "outputs": [
    {
     "name": "stdout",
     "output_type": "stream",
     "text": [
      "Happy New Year: Joseph\n",
      "Happy New Year: Glenn\n",
      "Happy New Year: Sally\n",
      "Done!\n"
     ]
    }
   ],
   "source": [
    "friends = ['Joseph', 'Glenn', 'Sally']\n",
    "for friend in friends :\n",
    " print('Happy New Year:', friend)\n",
    "print('Done!')"
   ]
  },
  {
   "cell_type": "code",
   "execution_count": 6,
   "id": "b1e6eeb3",
   "metadata": {},
   "outputs": [
    {
     "name": "stdout",
     "output_type": "stream",
     "text": [
      "Before\n",
      "9\n",
      "41\n",
      "12\n",
      "3\n",
      "74\n",
      "15\n",
      "After\n"
     ]
    }
   ],
   "source": [
    "print('Before')\n",
    "for thing in [9, 41, 12, 3, 74, 15] :\n",
    " print(thing)\n",
    "print('After')"
   ]
  },
  {
   "cell_type": "code",
   "execution_count": 9,
   "id": "9177456f",
   "metadata": {},
   "outputs": [
    {
     "name": "stdout",
     "output_type": "stream",
     "text": [
      "Before -1\n",
      "45 45\n",
      "45 34\n",
      "65 65\n",
      "65 12\n",
      "65 34\n",
      "90 90\n",
      "After\n"
     ]
    }
   ],
   "source": [
    "largest = -1\n",
    "print('Before', largest)\n",
    "for num in [45, 34, 65, 12, 34, 90] :\n",
    " if num > largest:\n",
    "  largest = num\n",
    " print(largest, num)\n",
    "print('After')"
   ]
  },
  {
   "cell_type": "code",
   "execution_count": 10,
   "id": "e99f0583",
   "metadata": {},
   "outputs": [
    {
     "name": "stdout",
     "output_type": "stream",
     "text": [
      "Before 0\n",
      "0 9\n",
      "0 41\n",
      "0 12\n",
      "0 3\n",
      "0 74\n",
      "0 15\n",
      "After 0\n"
     ]
    }
   ],
   "source": [
    "z = 0\n",
    "print('Before', z)\n",
    "for thing in [9, 41, 12, 3, 74, 15] :\n",
    "  zork = z + 1\n",
    "  print(z, thing)\n",
    "print('After', z)"
   ]
  },
  {
   "cell_type": "code",
   "execution_count": 11,
   "id": "1a689f2a",
   "metadata": {},
   "outputs": [
    {
     "name": "stdout",
     "output_type": "stream",
     "text": [
      "Before 0 0\n",
      "1 6 6\n",
      "2 14 8\n",
      "3 23 9\n",
      "4 66 43\n",
      "5 78 12\n",
      "6 132 54\n",
      "After 6 132 22.0\n"
     ]
    }
   ],
   "source": [
    "count = 0\n",
    "sum = 0\n",
    "print('Before', count, sum)\n",
    "for value in [6, 8, 9, 43, 12,54] :\n",
    " count = count + 1\n",
    " sum = sum + value\n",
    " print(count, sum, value)\n",
    "print('After', count, sum, sum / count)"
   ]
  },
  {
   "cell_type": "code",
   "execution_count": 12,
   "id": "fd04232f",
   "metadata": {},
   "outputs": [
    {
     "name": "stdout",
     "output_type": "stream",
     "text": [
      "Before\n",
      "Large number 41\n",
      "Large number 74\n",
      "After\n"
     ]
    }
   ],
   "source": [
    "print('Before')\n",
    "for value in [9, 41, 12, 3, 74, 15] :\n",
    "  if value > 20:\n",
    "   print('Large number',value)\n",
    "print('After')"
   ]
  },
  {
   "cell_type": "code",
   "execution_count": 13,
   "id": "f1c1cc98",
   "metadata": {},
   "outputs": [
    {
     "name": "stdout",
     "output_type": "stream",
     "text": [
      "Before False\n",
      "False 9\n",
      "False 41\n",
      "False 12\n",
      "True 3\n",
      "True 74\n",
      "True 15\n",
      "After True\n"
     ]
    }
   ],
   "source": [
    "found = False\n",
    "print('Before', found)\n",
    "for value in [9, 41, 12, 3, 74, 15] :\n",
    "  if value == 3 :\n",
    "    found = True\n",
    "  print(found, value)\n",
    "print('After', found)"
   ]
  },
  {
   "cell_type": "code",
   "execution_count": 14,
   "id": "5ab322f4",
   "metadata": {},
   "outputs": [
    {
     "name": "stdout",
     "output_type": "stream",
     "text": [
      "Before\n",
      "3 3\n",
      "3 41\n",
      "3 12\n",
      "3 9\n",
      "3 74\n",
      "3 15\n",
      "After 3\n"
     ]
    }
   ],
   "source": [
    "smallest = None\n",
    "print('Before')\n",
    "for value in [3, 41, 12, 9, 74, 15] :\n",
    "   if smallest is None :\n",
    "     smallest = value\n",
    "   elif value < smallest :\n",
    "     smallest = value\n",
    "   print(smallest, value)\n",
    "print('After', smallest)"
   ]
  },
  {
   "cell_type": "code",
   "execution_count": null,
   "id": "0e25d0c6",
   "metadata": {},
   "outputs": [],
   "source": []
  }
 ],
 "metadata": {
  "kernelspec": {
   "display_name": "Python 3 (ipykernel)",
   "language": "python",
   "name": "python3"
  },
  "language_info": {
   "codemirror_mode": {
    "name": "ipython",
    "version": 3
   },
   "file_extension": ".py",
   "mimetype": "text/x-python",
   "name": "python",
   "nbconvert_exporter": "python",
   "pygments_lexer": "ipython3",
   "version": "3.11.4"
  }
 },
 "nbformat": 4,
 "nbformat_minor": 5
}
