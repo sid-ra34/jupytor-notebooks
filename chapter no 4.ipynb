{
 "cells": [
  {
   "cell_type": "markdown",
   "id": "e708c93c",
   "metadata": {},
   "source": [
    "# Chapter # 4"
   ]
  },
  {
   "cell_type": "markdown",
   "id": "faa54a28",
   "metadata": {},
   "source": [
    "**FUNCTIONS**"
   ]
  },
  {
   "cell_type": "code",
   "execution_count": 1,
   "id": "9909fdc0",
   "metadata": {},
   "outputs": [
    {
     "name": "stdout",
     "output_type": "stream",
     "text": [
      "Hello\n",
      "Fun\n",
      "Zip\n",
      "Hello\n",
      "Fun\n"
     ]
    }
   ],
   "source": [
    "def thing():\n",
    " print('Hello')\n",
    " print('Fun')\n",
    "    \n",
    "thing()\n",
    "print('Zip')\n",
    "thing()"
   ]
  },
  {
   "cell_type": "code",
   "execution_count": 3,
   "id": "d081bc88",
   "metadata": {},
   "outputs": [
    {
     "name": "stdout",
     "output_type": "stream",
     "text": [
      "t\n"
     ]
    }
   ],
   "source": [
    "big = max('Hello earth') #max funvtion tells the max number according to ascii\n",
    "print(big)"
   ]
  },
  {
   "cell_type": "code",
   "execution_count": 5,
   "id": "340385fc",
   "metadata": {},
   "outputs": [
    {
     "data": {
      "text/plain": [
       "float"
      ]
     },
     "execution_count": 5,
     "metadata": {},
     "output_type": "execute_result"
    }
   ],
   "source": [
    "k = 0.33 \n",
    "type(k)   #type() if function tells the datatype of variables"
   ]
  },
  {
   "cell_type": "code",
   "execution_count": 8,
   "id": "edc8e4c9",
   "metadata": {},
   "outputs": [
    {
     "ename": "TypeError",
     "evalue": "can only concatenate str (not \"int\") to str",
     "output_type": "error",
     "traceback": [
      "\u001b[1;31m---------------------------------------------------------------------------\u001b[0m",
      "\u001b[1;31mTypeError\u001b[0m                                 Traceback (most recent call last)",
      "Cell \u001b[1;32mIn[8], line 2\u001b[0m\n\u001b[0;32m      1\u001b[0m b \u001b[38;5;241m=\u001b[39m \u001b[38;5;124m\"\u001b[39m\u001b[38;5;124mhello world\u001b[39m\u001b[38;5;124m\"\u001b[39m\n\u001b[1;32m----> 2\u001b[0m a \u001b[38;5;241m=\u001b[39m \u001b[38;5;28mint\u001b[39m(b \u001b[38;5;241m+\u001b[39m \u001b[38;5;241m1\u001b[39m)\n\u001b[0;32m      3\u001b[0m \u001b[38;5;28mprint\u001b[39m(a)\n",
      "\u001b[1;31mTypeError\u001b[0m: can only concatenate str (not \"int\") to str"
     ]
    }
   ],
   "source": [
    "b = \"hello world\"\n",
    "a = int(b + 1)\n",
    "print(a)"
   ]
  },
  {
   "cell_type": "markdown",
   "id": "4e823334",
   "metadata": {},
   "source": [
    "**BUILDING OUR OWN FNCTION**"
   ]
  },
  {
   "cell_type": "code",
   "execution_count": 10,
   "id": "46a3dc95",
   "metadata": {},
   "outputs": [
    {
     "name": "stdout",
     "output_type": "stream",
     "text": [
      "Hello\n",
      "I'm a lumberjack, and I'm okay.\n",
      "I sleep all night and I work all day.\n",
      "Yo\n",
      "7\n"
     ]
    }
   ],
   "source": [
    "x = 5\n",
    "print('Hello')\n",
    "\n",
    "def print_lyrics():\n",
    " print(\"I'm a lumberjack, and I'm okay.\")\n",
    " print('I sleep all night and I work all day.')\n",
    "    \n",
    "print_lyrics()\n",
    "print('Yo')\n",
    "x = x + 2\n",
    "print(x)"
   ]
  },
  {
   "cell_type": "code",
   "execution_count": 11,
   "id": "e47bb091",
   "metadata": {},
   "outputs": [
    {
     "name": "stdout",
     "output_type": "stream",
     "text": [
      "Hello\n",
      "Hola\n",
      "Bonjour\n"
     ]
    }
   ],
   "source": [
    "def greet(lang):\n",
    " if lang == 'es':\n",
    "  print('Hola')\n",
    " elif lang == 'fr':\n",
    "  print('Bonjour')\n",
    " else:\n",
    "  print('Hello')\n",
    "\n",
    "greet('en')\n",
    "\n",
    "greet('es')\n",
    "\n",
    "greet('fr')"
   ]
  },
  {
   "cell_type": "code",
   "execution_count": 12,
   "id": "d0ad85c4",
   "metadata": {},
   "outputs": [
    {
     "name": "stdout",
     "output_type": "stream",
     "text": [
      "Hello sidra\n",
      "Hello fatima\n",
      "Hello huda\n"
     ]
    }
   ],
   "source": [
    "def greet():\n",
    " return \"Hello\" #this function always return hello\n",
    "\n",
    "print(greet(), \"sidra\")\n",
    "print(greet(), \"fatima\")\n",
    "print(greet(), \"huda\")"
   ]
  },
  {
   "cell_type": "code",
   "execution_count": null,
   "id": "fdb991fc",
   "metadata": {},
   "outputs": [],
   "source": []
  }
 ],
 "metadata": {
  "kernelspec": {
   "display_name": "Python 3 (ipykernel)",
   "language": "python",
   "name": "python3"
  },
  "language_info": {
   "codemirror_mode": {
    "name": "ipython",
    "version": 3
   },
   "file_extension": ".py",
   "mimetype": "text/x-python",
   "name": "python",
   "nbconvert_exporter": "python",
   "pygments_lexer": "ipython3",
   "version": "3.11.4"
  }
 },
 "nbformat": 4,
 "nbformat_minor": 5
}
