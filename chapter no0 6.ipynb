{
 "cells": [
  {
   "cell_type": "markdown",
   "id": "ebea5940",
   "metadata": {},
   "source": [
    "# Chapter no 6"
   ]
  },
  {
   "cell_type": "markdown",
   "id": "190a36e1",
   "metadata": {},
   "source": [
    "**STRING**"
   ]
  },
  {
   "cell_type": "code",
   "execution_count": 4,
   "id": "b7458b78",
   "metadata": {},
   "outputs": [
    {
     "name": "stdout",
     "output_type": "stream",
     "text": [
      "Hello World!\n"
     ]
    },
    {
     "data": {
      "text/plain": [
       "str"
      ]
     },
     "execution_count": 4,
     "metadata": {},
     "output_type": "execute_result"
    }
   ],
   "source": [
    "srt1 = \"Hello\"\n",
    "str2 = \" World!\"\n",
    "msg = srt1 + str2\n",
    "print(msg)\n",
    "type(msg)"
   ]
  },
  {
   "cell_type": "code",
   "execution_count": 6,
   "id": "989f24d6",
   "metadata": {},
   "outputs": [
    {
     "name": "stdout",
     "output_type": "stream",
     "text": [
      "346\n"
     ]
    },
    {
     "data": {
      "text/plain": [
       "int"
      ]
     },
     "execution_count": 6,
     "metadata": {},
     "output_type": "execute_result"
    }
   ],
   "source": [
    "str3 = '345'\n",
    "j = int(str3) + 1\n",
    "print(j)\n",
    "type(j)"
   ]
  },
  {
   "cell_type": "code",
   "execution_count": 9,
   "id": "5748e756",
   "metadata": {},
   "outputs": [
    {
     "name": "stdout",
     "output_type": "stream",
     "text": [
      "423\n"
     ]
    }
   ],
   "source": [
    "orange = 657\n",
    "banana = orange - 234\n",
    "print(banana)"
   ]
  },
  {
   "cell_type": "code",
   "execution_count": 15,
   "id": "47b4a396",
   "metadata": {},
   "outputs": [
    {
     "name": "stdout",
     "output_type": "stream",
     "text": [
      "r\n",
      "c\n",
      "e\n"
     ]
    }
   ],
   "source": [
    "game = \"cricket\"\n",
    "letter = game[1]\n",
    "leter = game[3]\n",
    "lettr = game[5]\n",
    "print(letter)\n",
    "print(leter)\n",
    "print(lettr)"
   ]
  },
  {
   "cell_type": "code",
   "execution_count": 17,
   "id": "411ab6d9",
   "metadata": {},
   "outputs": [
    {
     "name": "stdout",
     "output_type": "stream",
     "text": [
      "10\n",
      "5\n"
     ]
    }
   ],
   "source": [
    "f = \"pomogranet\"\n",
    "print(len(f))\n",
    "\n",
    "f2 = \"gauva\"\n",
    "print(len(f2))"
   ]
  },
  {
   "cell_type": "code",
   "execution_count": 18,
   "id": "72bcc523",
   "metadata": {},
   "outputs": [
    {
     "name": "stdout",
     "output_type": "stream",
     "text": [
      "0 w\n",
      "1 a\n",
      "2 s\n",
      "3 h\n",
      "4 i\n",
      "5 n\n",
      "6 g\n",
      "7 M\n",
      "8 a\n",
      "9 c\n",
      "10 h\n",
      "11 i\n",
      "12 n\n",
      "13 e\n"
     ]
    }
   ],
   "source": [
    "appliance = 'washingMachine'\n",
    "index = 0\n",
    "while index < len(appliance):\n",
    "  letter = appliance[index]\n",
    "  print(index, letter)\n",
    "  index = index + 1"
   ]
  },
  {
   "cell_type": "code",
   "execution_count": 19,
   "id": "9dac17e2",
   "metadata": {},
   "outputs": [
    {
     "name": "stdout",
     "output_type": "stream",
     "text": [
      "m\n",
      "a\n",
      "n\n",
      "g\n",
      "o\n"
     ]
    }
   ],
   "source": [
    "fruit = 'mango'\n",
    "for letter in fruit:\n",
    "  print(letter)"
   ]
  },
  {
   "cell_type": "code",
   "execution_count": 20,
   "id": "5f84abcd",
   "metadata": {},
   "outputs": [
    {
     "name": "stdout",
     "output_type": "stream",
     "text": [
      "3\n"
     ]
    }
   ],
   "source": [
    "word = 'banana'\n",
    "count = 0\n",
    "for letter in word :\n",
    " if letter == 'a' :\n",
    "  count = count + 1\n",
    "print(count)"
   ]
  },
  {
   "cell_type": "code",
   "execution_count": 21,
   "id": "192592d5",
   "metadata": {},
   "outputs": [
    {
     "name": "stdout",
     "output_type": "stream",
     "text": [
      "Mont\n",
      "P\n",
      "Python\n"
     ]
    }
   ],
   "source": [
    "s = 'Monty Python'\n",
    "print(s[0:4])\n",
    "\n",
    "print(s[6:7])\n",
    "\n",
    "print(s[6:20])"
   ]
  },
  {
   "cell_type": "code",
   "execution_count": 22,
   "id": "c8b9dc0a",
   "metadata": {},
   "outputs": [
    {
     "name": "stdout",
     "output_type": "stream",
     "text": [
      "Mo\n",
      "thon\n",
      "Monty Python\n"
     ]
    }
   ],
   "source": [
    "s = 'Monty Python'\n",
    "print(s[:2])\n",
    "\n",
    "print(s[8:])\n",
    "\n",
    "print(s[:])"
   ]
  },
  {
   "cell_type": "code",
   "execution_count": 23,
   "id": "1f34f36c",
   "metadata": {},
   "outputs": [
    {
     "name": "stdout",
     "output_type": "stream",
     "text": [
      "HelloThere\n",
      "Hello There\n"
     ]
    }
   ],
   "source": [
    "a = 'Hello'\n",
    "b = a + 'There'\n",
    "print(b)\n",
    "\n",
    "c = a + ' ' + 'There'\n",
    "print(c)"
   ]
  },
  {
   "cell_type": "code",
   "execution_count": 25,
   "id": "c64b8638",
   "metadata": {},
   "outputs": [
    {
     "name": "stdout",
     "output_type": "stream",
     "text": [
      "Found it!\n"
     ]
    }
   ],
   "source": [
    "fruit = 'banana'\n",
    "'n' in fruit\n",
    "'m' in fruit\n",
    "'nan' in fruit\n",
    "if 'a' in fruit :\n",
    " print('Found it!')"
   ]
  },
  {
   "cell_type": "code",
   "execution_count": 26,
   "id": "d5fb0ede",
   "metadata": {},
   "outputs": [
    {
     "name": "stdout",
     "output_type": "stream",
     "text": [
      "All right, bananas.\n",
      "All right, bananas.\n"
     ]
    }
   ],
   "source": [
    "if word == 'banana':\n",
    "  print('All right, bananas.')\n",
    "if word < 'banana':\n",
    "  print('Your word,' + word + ', comes before banana.')\n",
    "elif word > 'banana':\n",
    "  print('Your word,' + word + ', comes after banana.')\n",
    "else:\n",
    "  print('All right, bananas.')"
   ]
  },
  {
   "cell_type": "code",
   "execution_count": 27,
   "id": "67045d37",
   "metadata": {},
   "outputs": [
    {
     "name": "stdout",
     "output_type": "stream",
     "text": [
      "hello bob\n",
      "Hello Bob\n",
      "hi there\n"
     ]
    }
   ],
   "source": [
    "greet = 'Hello Bob'\n",
    "zap = greet.lower()\n",
    "print(zap)\n",
    "print(greet)\n",
    "\n",
    "print('Hi There'.lower())"
   ]
  },
  {
   "cell_type": "code",
   "execution_count": 28,
   "id": "cd08a844",
   "metadata": {},
   "outputs": [
    {
     "name": "stdout",
     "output_type": "stream",
     "text": [
      "HELLO GIRL\n"
     ]
    }
   ],
   "source": [
    "greet = 'Hello girl'\n",
    "nnn = greet.upper()\n",
    "print(nnn)"
   ]
  },
  {
   "cell_type": "code",
   "execution_count": 29,
   "id": "ed2cd59a",
   "metadata": {},
   "outputs": [
    {
     "name": "stdout",
     "output_type": "stream",
     "text": [
      "hello girl\n"
     ]
    }
   ],
   "source": [
    "greet = 'Hello girl'\n",
    "nnn = greet.lower()\n",
    "print(nnn)"
   ]
  },
  {
   "cell_type": "code",
   "execution_count": null,
   "id": "2e90ebdc",
   "metadata": {},
   "outputs": [],
   "source": [
    "greet = 'Hello girl'\n",
    "nnn = greet.replace('l' , 't')\n",
    "print(nnn)"
   ]
  }
 ],
 "metadata": {
  "kernelspec": {
   "display_name": "Python 3 (ipykernel)",
   "language": "python",
   "name": "python3"
  },
  "language_info": {
   "codemirror_mode": {
    "name": "ipython",
    "version": 3
   },
   "file_extension": ".py",
   "mimetype": "text/x-python",
   "name": "python",
   "nbconvert_exporter": "python",
   "pygments_lexer": "ipython3",
   "version": "3.11.4"
  }
 },
 "nbformat": 4,
 "nbformat_minor": 5
}
